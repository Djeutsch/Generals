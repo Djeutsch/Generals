{
 "cells": [
  {
   "cell_type": "markdown",
   "metadata": {
    "colab_type": "text",
    "id": "u7M67HFzp2Ty"
   },
   "source": [
    "# <center> Description of some Relevant Statistical Concepts for Data Analysis </center>\n",
    "\n",
    "\n",
    "\n",
    "\n",
    "\n",
    "\n",
    "\n",
    "## A Gentle Introduction to Statistical Sampling and Resempling\n",
    "\n",
    "Data is the currency of applied Machine Learning, the fuel that keeps it going. Therefore, it is very important that data it is both collected and used effictively.\n",
    "\n",
    "Broadly speaking, **`data sampling`** refers to statistical methods for selecting observations from the domain, commonly called sampling population/set, with the objective of estimating a population paramerter. Whereas **`data resampling`** refers to methods for \"economically\" using a collected data to improved the estimate of the population parameter and to quantify the uncertainity of the estimate. Both data sampling and data resampling are methods that are required in a **`Predictive Modeling Problem`**.\n",
    "\n",
    "Here, you will discover **`statistical sampling`** and **`statistical resampling`** methods for gathering and making best use of data.\n",
    "\n",
    "After completing this reading, you will know:\n",
    "+ **`Sampling`** is an active process of gathering observations with the intent of estimating a population variable.\n",
    "\n",
    "+ **`Resampling`** is a methodology of \"economically\" using a data sample to improve the **accuracy** and **quantify the uncertainty** of a population parameter.\n",
    "\n",
    "+ Resampling methods, in fact, make use of a nested resampling method."
   ]
  },
  {
   "cell_type": "markdown",
   "metadata": {
    "colab_type": "text",
    "id": "JkMUzsdRp2Tz"
   },
   "source": [
    "### Statistical Sampling\n",
    "\n",
    "Each row of data represents an observation about something in the population.\n",
    "\n",
    "When working with data, we often do not have access to all possible observations. This could be for many reasons; for example:\n",
    "+ It may be difficult or expensive to make more observations, e.g: Ship based observations, remote sensing measurements, etc.\n",
    "+ It may be challenging to gather all observations together, e.g: Satellite data + in situ data.\n",
    "+ More observations are expected to be made in the future, e.g: Stock Price data, observations from longitudinal studies.\n",
    "\n",
    "Observations made in a domain represent samples of some broader idealized and unknown population of all possible observations that could be made in the domain. This is a useful conceptualization as we can see the separation and relationship between observations and the idealized population.\n",
    "\n",
    "We can also see that, even if we intend to use big data infrastructure on all available data, that the data still represents a sample of observations from an idealized population.\n",
    "\n",
    "Nevertheless, we may wish to estimate properties of the population. We do this by using samples of observations.\n",
    "\n",
    "***`Sampling consists of selecting some part of the population to observe so that one may estimate something about the whole population`***.\n",
    "\n",
    "\n",
    "#### How to Sample\n",
    "\n",
    "Statistical sampling is the process of selecting subsets of examples from a population with the objective of estimating properties of the population.\n",
    "\n",
    "Sampling is an active process, that happens in a real world. There is a goal of estimating population properties and control over how the sampling is to occur. This control falls short of influencing the process that generates each observation, such as performing an experiment. As such, sampling as a field sits neatly between pure uncontrolled observation and controlled experimentation.\n",
    "\n",
    "***`Sampling is usually distinguished from the closely related field of experimental design,`*** **`in that in experiments one deliberately perturbs some part of the population in order to see what the effect of that action is.`** ***`[…] Sampling is also usually distinguished from observational studies,`*** **`in which one has little or no control over how the observations on the population were obtained.`**\n",
    "\n",
    "\n",
    "There are many benefits to sampling compared to working with fuller or complete datasets, including reduced cost and greater speed.\n",
    "\n",
    "In order to perform sampling, it requires that you carefully define your **`population`** and the **`method`** by which you will select (and possibly reject) observations to be a part of your data sample. This may very well be defined by the population parameters that you wish to estimate using the sample. Some aspects to consider prior to collecting a data sample include:\n",
    "\n",
    "+ **`Sample Goal`**: The population property that you wish to estimate using the sample.\n",
    "+ **`Population`**: The scope or domain from which observations could theoretically be made.\n",
    "+ **`Selection Criteria`**: The methodology that will be used to accept or reject observations in your sample.\n",
    "+ **`Sample Size`**: The number of observations that will constitute the sample.\n",
    "\n",
    "***`Some obvious questions […] are`*** **`how best to obtain the sample and make the observations`** ***`and, once the sample data are in hand,`*** **`how best to use them to estimate the characteristics of the whole population`**. ***`Obtaining the observations involves questions of sample size, how to select the sample, what observational methods to use, and what measurements to record.`***\n",
    "\n",
    "\n",
    "Statistical sampling is a large field of study, but in Applied Machine Learning, there may be three types of sampling that you are likely to use:\n",
    "+ **`Simple Random Sampling`:** Samples are drawn with a uniform probability from the domain.\n",
    "+ **`Systematic Sampling`:** Samples are drawn using a pre-specified pattern, such as at intervals.\n",
    "+ **`Stratified Sampling`:** Samples are drawn within pre-specified categories (i.e. strata).\n",
    "\n",
    "Although these are the more common types of sampling that you may encounter, there are other techniques.\n",
    "\n",
    "#### Sampling Errors\n",
    "\n",
    "Sampling requires that we make a statistical inference about the population from a small set of observations. Therefore, we can generalize properties from the sample to the population. This process of estimation and generalization is much faster than working with all possible observations, but will contain errors. In many cases, *we can quantify the uncertainty of our estimates and add errors bars, such as confidence intervals*.\n",
    "\n",
    "There are many ways to introduce errors into your data sample. Two main types of errors include (selection bias and sampling error):\n",
    "+ **`Selection Bias`:** Caused when the method of drawing observations skews the sample in some way.\n",
    "+ **`Sampling Error`:** Caused due to the random nature of drawing observations skewing the sample in some way.\n",
    "\n",
    "Other types of errors may be present, such as **`systematic errors`:** in the way observations or measurements are made.\n",
    "\n",
    "In these cases and more, the statistical properties of the sample may be different from what would be expected in the idealized population, which in turn may impact the properties of the population that are being estimated. *Simple methods, such as reviewing raw observations, summary statistics, and visualizations can help expose simple errors, such as measurement corruption and the over- or underrepresentation of a class of observations.*\n",
    "\n",
    "**`Nevertheless, care must be taken both when sampling and when drawing conclusions about the population while sampling.`**\n",
    "\n"
   ]
  },
  {
   "cell_type": "markdown",
   "metadata": {
    "colab_type": "text",
    "id": "4jERQj01p2T0"
   },
   "source": [
    "### Statistical Resampling\n",
    "\n",
    "Once we have a data sample, it can be used to estimate the population parameter. However, the problem is that we only have a single estimate of the population parameter, with little idea of the variability or uncertainty in the estimate. ***`One way to address this is by estimating the population parameter multiple times from our data sample. This is called resampling.`***\n",
    "\n",
    "**`Statistical resampling`** methods are procedures that describe how to \"economically\" use available data to estimate a population parameter. ***`The result can be both a more accurate estimate of the parameter (such as taking the mean of the estimates) and a quantification of the uncertainty of the estimate (such as adding a confidence interval).`***\n",
    "\n",
    "Resampling methods are very easy to use, requiring little mathematical knowledge. They are methods that are easy to understand and implement compared to specialized statistical methods that may require deep technical skill in order to select and interpret.\n",
    "\n",
    "***`The resampling methods […] are easy to learn and easy to apply. They require no mathematics beyond introductory high-school algebra, et are applicable in an exceptionally broad range of subject areas.`**\n",
    "\n",
    "A downside of the methods is that they can be computationally very expensive, requiring tens, hundreds, or even thousands of resamples in order to develop a robust estimate of the population parameter.\n",
    "\n",
    "**Note:**\n",
    "\n",
    "*The key idea is to resample from the original data — either directly or via a fitted model — to create replicate datasets, from which the variability of the quantiles of interest can be assessed without long-winded and error-prone analytical calculation. Because this approach involves repeating the original data analysis procedure with many replicate sets of data, these are sometimes called **`computer-intensive methods`**.*\n",
    "\n",
    "\n",
    "Each new subsample from the original data sample is used to estimate the population parameter. The sample of estimated population parameters can then be considered with statistical tools in order to quantify the expected value and variance, providing measures of the uncertainty of the estimate.\n",
    "\n",
    "**`Statistical sampling`** methods can be used in the selection of a subsample from the original sample. A key difference is that process must be repeated multiple times. The problem with this is that there will be some relationship between the samples as observations that will be shared across multiple subsamples. ***`This means that the subsamples and the estimated population parameters are not strictly identical and independently distributed.`*** This has implications for statistical tests performed on the sample of estimated population parameters downstream, i.e. paired statistical tests may be required.\n",
    "\n",
    "Two commonly used resampling methods that you may encounter are **`k-fold cross-validation`** and the **`bootstrap`**:\n",
    "+ **`Bootstrap`:** Samples are drawn from the dataset with replacement (allowing the same sample to appear more than once in the sample), where those instances not drawn into the data sample may be used for the test set.\n",
    "+ **`k-fold Cross-Validation`:** A dataset is partitioned into k groups, where each group is given the opportunity of being used as a held out test set leaving the remaining groups as the training set.\n",
    "\n",
    "The **`k-fold cross-validation`** method specifically lends itself to use in the evaluation of predictive models that are repeatedly trained on one subset of the data and evaluated on a second held-out subset of the data.\n",
    "\n",
    "***`Generally, resampling techniques for estimating model performance operate similarly: a subset of samples are used to fit a model and the remaining samples are used to estimate the efficacy of the model. This process is repeated multiple times and the results are aggregated and summarized. The differences in techniques usually center around the method in which subsamples are chosen.`***\n",
    "\n",
    "\n",
    "The **`bootstrap method`** can be used for the same purpose, but is a more general and simpler method intended for estimating a population parameter.\n",
    "\n",
    "\n",
    "The credit for this work goes to [Jason Brownley, ](https://twitter.com/TeachTheMachine)"
   ]
  },
  {
   "cell_type": "markdown",
   "metadata": {
    "colab_type": "text",
    "id": "YrYUCp0tp2T1"
   },
   "source": [
    "## Things that Need to be Known before Getting into Times Series Data Manipulation and Analysis \n",
    "\n",
    "![Image courtesy: https://pixabay.com/, some right reserved.](https://cdn.pixabay.com/photo/2019/05/08/21/52/the-eleventh-hour-4189793_1280.jpg)\n",
    "\n",
    "\"*As someone working with time series data almost in a daily base, I found the **Python** module [**Pandas**](https://pandas.pydata.org/pandas-docs/stable/) to be extremely useful for time series data manipulation and analysis.*\" [**Laura Fedoruk:** Data Scientist, Mechanical Engineer & Sustainability Professional](https://towardsdatascience.com/@laurafedoruk).\n",
    "\n",
    "\n",
    "This part of the note deals with some basic time series data manipulation with **`pandas`**, and should allow any potential user to get started in its time series data analysis. Specifically, after completing this work, you will know how to:\n",
    "+ create a date range;\n",
    "+ work with `timestamp` data;\n",
    "+ convert string data to a `timestamp`;\n",
    "+ index and slice your time series data in a data frame;\n",
    "+ resample your time series for different time period aggregates/summary statistics;\n",
    "+ compute a rolling statistic such as a rolling average;\n",
    "+ work with missing data;\n",
    "+ understand the basics of unix/epoch time;\n",
    "+ understand common pitfalls of time series data analysis;\n",
    "\n",
    "Now, let’s get started. If you want to play with real data that you have, you may want to start by using `pandas.read_csv` to read in your file to a data frame, however we’re going to start by playing with generated data.\n",
    "\n",
    "### Loading of dependencies and creation of data range\n",
    "\n",
    "First import the modules/libraries we’ll be working with and then use them to create a date range"
   ]
  },
  {
   "cell_type": "code",
   "execution_count": 0,
   "metadata": {
    "ExecuteTime": {
     "end_time": "2018-11-21T15:47:55.664689Z",
     "start_time": "2018-11-21T15:47:55.657886Z"
    },
    "colab": {},
    "colab_type": "code",
    "id": "cKH8CwQFp2T1"
   },
   "outputs": [],
   "source": [
    "import pandas as pd\n",
    "from datetime import datetime\n",
    "import numpy as np"
   ]
  },
  {
   "cell_type": "markdown",
   "metadata": {
    "colab_type": "text",
    "id": "QvMVgIP1p2T5"
   },
   "source": [
    "The following date range will have timestamps with an hourly frequency, however, we can always change that frewuency if needed: weekly, monthly, etc."
   ]
  },
  {
   "cell_type": "code",
   "execution_count": 0,
   "metadata": {
    "ExecuteTime": {
     "end_time": "2018-11-21T15:47:56.022022Z",
     "start_time": "2018-11-21T15:47:55.987076Z"
    },
    "colab": {},
    "colab_type": "code",
    "id": "EoPAu5UZp2T5",
    "outputId": "3fb59c8e-cfe1-4072-91fe-7a01ab6eaa6f"
   },
   "outputs": [
    {
     "name": "stdout",
     "output_type": "stream",
     "text": [
      "DatetimeIndex(['2018-01-01 00:00:00', '2018-01-01 04:00:00',\n",
      "               '2018-01-01 08:00:00', '2018-01-01 12:00:00',\n",
      "               '2018-01-01 16:00:00', '2018-01-01 20:00:00',\n",
      "               '2018-01-02 00:00:00', '2018-01-02 04:00:00',\n",
      "               '2018-01-02 08:00:00', '2018-01-02 12:00:00',\n",
      "               ...\n",
      "               '2018-11-19 12:00:00', '2018-11-19 16:00:00',\n",
      "               '2018-11-19 20:00:00', '2018-11-20 00:00:00',\n",
      "               '2018-11-20 04:00:00', '2018-11-20 08:00:00',\n",
      "               '2018-11-20 12:00:00', '2018-11-20 16:00:00',\n",
      "               '2018-11-20 20:00:00', '2018-11-21 00:00:00'],\n",
      "              dtype='datetime64[ns]', length=1945, freq='4H')\n"
     ]
    }
   ],
   "source": [
    "date_range = pd.date_range(start=\"1/1/2018\", end=\"21/11/2018\", freq=\"4H\")\n",
    "\n",
    "print(date_range)"
   ]
  },
  {
   "cell_type": "code",
   "execution_count": 0,
   "metadata": {
    "ExecuteTime": {
     "end_time": "2018-11-21T15:47:56.173635Z",
     "start_time": "2018-11-21T15:47:56.167336Z"
    },
    "colab": {},
    "colab_type": "code",
    "id": "pgPnYQlAp2T-",
    "outputId": "827ed6e2-39f7-4470-b769-89594bb291a7"
   },
   "outputs": [
    {
     "data": {
      "text/plain": [
       "pandas._libs.tslibs.timestamps.Timestamp"
      ]
     },
     "execution_count": 3,
     "metadata": {
      "tags": []
     },
     "output_type": "execute_result"
    }
   ],
   "source": [
    "##### Just to check the type of an element from the set\n",
    "type(date_range[2])"
   ]
  },
  {
   "cell_type": "markdown",
   "metadata": {
    "colab_type": "text",
    "id": "tnKzhIpSp2UB"
   },
   "source": [
    "### Creation of on an example `DataFrame`\n",
    "\n",
    "Here, we are going to create an example `DataFrame` with the timestamp data and look at some of its contents"
   ]
  },
  {
   "cell_type": "code",
   "execution_count": 0,
   "metadata": {
    "ExecuteTime": {
     "end_time": "2018-11-21T15:57:10.176720Z",
     "start_time": "2018-11-21T15:57:10.173009Z"
    },
    "colab": {},
    "colab_type": "code",
    "id": "DHtlPVBtp2UB"
   },
   "outputs": [],
   "source": [
    "df = pd.DataFrame(date_range, columns=[\"Date\"])\n",
    "df[\"Data\"] = np.random.randint(0, 1000, size=len(date_range))"
   ]
  },
  {
   "cell_type": "code",
   "execution_count": 0,
   "metadata": {
    "ExecuteTime": {
     "end_time": "2018-11-21T15:57:10.378679Z",
     "start_time": "2018-11-21T15:57:10.372046Z"
    },
    "colab": {},
    "colab_type": "code",
    "id": "9jl2NDn8p2UD",
    "outputId": "fff78e59-c255-45ae-92b8-1afd90b63913"
   },
   "outputs": [
    {
     "data": {
      "text/html": [
       "<div>\n",
       "<style scoped>\n",
       "    .dataframe tbody tr th:only-of-type {\n",
       "        vertical-align: middle;\n",
       "    }\n",
       "\n",
       "    .dataframe tbody tr th {\n",
       "        vertical-align: top;\n",
       "    }\n",
       "\n",
       "    .dataframe thead th {\n",
       "        text-align: right;\n",
       "    }\n",
       "</style>\n",
       "<table border=\"1\" class=\"dataframe\">\n",
       "  <thead>\n",
       "    <tr style=\"text-align: right;\">\n",
       "      <th></th>\n",
       "      <th>Date</th>\n",
       "      <th>Data</th>\n",
       "    </tr>\n",
       "  </thead>\n",
       "  <tbody>\n",
       "    <tr>\n",
       "      <th>1940</th>\n",
       "      <td>2018-11-20 08:00:00</td>\n",
       "      <td>619</td>\n",
       "    </tr>\n",
       "    <tr>\n",
       "      <th>1941</th>\n",
       "      <td>2018-11-20 12:00:00</td>\n",
       "      <td>904</td>\n",
       "    </tr>\n",
       "    <tr>\n",
       "      <th>1942</th>\n",
       "      <td>2018-11-20 16:00:00</td>\n",
       "      <td>990</td>\n",
       "    </tr>\n",
       "    <tr>\n",
       "      <th>1943</th>\n",
       "      <td>2018-11-20 20:00:00</td>\n",
       "      <td>65</td>\n",
       "    </tr>\n",
       "    <tr>\n",
       "      <th>1944</th>\n",
       "      <td>2018-11-21 00:00:00</td>\n",
       "      <td>789</td>\n",
       "    </tr>\n",
       "  </tbody>\n",
       "</table>\n",
       "</div>"
      ],
      "text/plain": [
       "                    Date  Data\n",
       "1940 2018-11-20 08:00:00   619\n",
       "1941 2018-11-20 12:00:00   904\n",
       "1942 2018-11-20 16:00:00   990\n",
       "1943 2018-11-20 20:00:00    65\n",
       "1944 2018-11-21 00:00:00   789"
      ]
     },
     "execution_count": 5,
     "metadata": {
      "tags": []
     },
     "output_type": "execute_result"
    }
   ],
   "source": [
    "df.tail()"
   ]
  },
  {
   "cell_type": "markdown",
   "metadata": {
    "colab_type": "text",
    "id": "dYOLUVuqp2UG"
   },
   "source": [
    "**Note:**\n",
    "*Now, if we want to do some time series manipulation, we’ll need to have a date time index so that our data frame is indexed on the timestamp.*\n",
    "\n",
    "### Converting the data frame index to a datetime index"
   ]
  },
  {
   "cell_type": "code",
   "execution_count": 0,
   "metadata": {
    "ExecuteTime": {
     "end_time": "2018-11-21T15:57:10.701986Z",
     "start_time": "2018-11-21T15:57:10.693162Z"
    },
    "colab": {},
    "colab_type": "code",
    "id": "MFaQpn_xp2UH",
    "outputId": "db839601-d555-4423-85aa-e0c41006f236"
   },
   "outputs": [
    {
     "data": {
      "text/html": [
       "<div>\n",
       "<style scoped>\n",
       "    .dataframe tbody tr th:only-of-type {\n",
       "        vertical-align: middle;\n",
       "    }\n",
       "\n",
       "    .dataframe tbody tr th {\n",
       "        vertical-align: top;\n",
       "    }\n",
       "\n",
       "    .dataframe thead th {\n",
       "        text-align: right;\n",
       "    }\n",
       "</style>\n",
       "<table border=\"1\" class=\"dataframe\">\n",
       "  <thead>\n",
       "    <tr style=\"text-align: right;\">\n",
       "      <th></th>\n",
       "      <th>Data</th>\n",
       "    </tr>\n",
       "    <tr>\n",
       "      <th>Date</th>\n",
       "      <th></th>\n",
       "    </tr>\n",
       "  </thead>\n",
       "  <tbody>\n",
       "    <tr>\n",
       "      <th>2018-01-01 00:00:00</th>\n",
       "      <td>501</td>\n",
       "    </tr>\n",
       "    <tr>\n",
       "      <th>2018-01-01 04:00:00</th>\n",
       "      <td>119</td>\n",
       "    </tr>\n",
       "    <tr>\n",
       "      <th>2018-01-01 08:00:00</th>\n",
       "      <td>335</td>\n",
       "    </tr>\n",
       "    <tr>\n",
       "      <th>2018-01-01 12:00:00</th>\n",
       "      <td>314</td>\n",
       "    </tr>\n",
       "    <tr>\n",
       "      <th>2018-01-01 16:00:00</th>\n",
       "      <td>33</td>\n",
       "    </tr>\n",
       "  </tbody>\n",
       "</table>\n",
       "</div>"
      ],
      "text/plain": [
       "                     Data\n",
       "Date                     \n",
       "2018-01-01 00:00:00   501\n",
       "2018-01-01 04:00:00   119\n",
       "2018-01-01 08:00:00   335\n",
       "2018-01-01 12:00:00   314\n",
       "2018-01-01 16:00:00    33"
      ]
     },
     "execution_count": 6,
     "metadata": {
      "tags": []
     },
     "output_type": "execute_result"
    }
   ],
   "source": [
    "df.Date = pd.to_datetime(df.Date)\n",
    "df.set_index(\"Date\", inplace=True)\n",
    "\n",
    "df.head()"
   ]
  },
  {
   "cell_type": "markdown",
   "metadata": {
    "colab_type": "text",
    "id": "Yhxhy8Jmp2UK"
   },
   "source": [
    "**Question:** What if our **time stamps** in our data are actually string type vs. numerical?\n",
    "\n",
    "Let’s convert our **`date_range`** to a list of strings and then convert the strings to timestamps."
   ]
  },
  {
   "cell_type": "code",
   "execution_count": 0,
   "metadata": {
    "ExecuteTime": {
     "end_time": "2018-11-21T15:57:11.011636Z",
     "start_time": "2018-11-21T15:57:10.998548Z"
    },
    "colab": {},
    "colab_type": "code",
    "id": "b3YkQ1T4p2UL",
    "outputId": "81c6a443-dbf2-44f2-9c6f-2b80287c5e59"
   },
   "outputs": [
    {
     "name": "stdout",
     "output_type": "stream",
     "text": [
      "['2018-01-01 00:00:00', '2018-01-01 04:00:00', '2018-01-01 08:00:00', '2018-01-01 12:00:00', '2018-01-01 16:00:00', '2018-01-01 20:00:00', '2018-01-02 00:00:00', '2018-01-02 04:00:00', '2018-01-02 08:00:00', '2018-01-02 12:00:00']\n"
     ]
    }
   ],
   "source": [
    "string_date_range = [str(x) for x in date_range]\n",
    "\n",
    "print(string_date_range[0:10])"
   ]
  },
  {
   "cell_type": "markdown",
   "metadata": {
    "colab_type": "text",
    "id": "_9qTYCOQp2UO"
   },
   "source": [
    "### Converting the strings to timestamps by inferring their format"
   ]
  },
  {
   "cell_type": "code",
   "execution_count": 0,
   "metadata": {
    "ExecuteTime": {
     "end_time": "2018-11-21T15:57:11.348776Z",
     "start_time": "2018-11-21T15:57:11.342394Z"
    },
    "colab": {},
    "colab_type": "code",
    "id": "0CQV6JY7p2UP",
    "outputId": "2cc4a269-6279-4c48-e944-945232349260"
   },
   "outputs": [
    {
     "name": "stdout",
     "output_type": "stream",
     "text": [
      "DatetimeIndex(['2018-01-01 00:00:00', '2018-01-01 04:00:00',\n",
      "               '2018-01-01 08:00:00', '2018-01-01 12:00:00',\n",
      "               '2018-01-01 16:00:00', '2018-01-01 20:00:00',\n",
      "               '2018-01-02 00:00:00', '2018-01-02 04:00:00',\n",
      "               '2018-01-02 08:00:00', '2018-01-02 12:00:00',\n",
      "               ...\n",
      "               '2018-11-19 12:00:00', '2018-11-19 16:00:00',\n",
      "               '2018-11-19 20:00:00', '2018-11-20 00:00:00',\n",
      "               '2018-11-20 04:00:00', '2018-11-20 08:00:00',\n",
      "               '2018-11-20 12:00:00', '2018-11-20 16:00:00',\n",
      "               '2018-11-20 20:00:00', '2018-11-21 00:00:00'],\n",
      "              dtype='datetime64[ns]', length=1945, freq=None)\n"
     ]
    }
   ],
   "source": [
    "timestamp_date_range = pd.to_datetime(string_date_range,\n",
    "                                      infer_datetime_format=True)\n",
    "\n",
    "print(timestamp_date_range)"
   ]
  },
  {
   "cell_type": "markdown",
   "metadata": {
    "colab_type": "text",
    "id": "XUvLFeBXp2UR"
   },
   "source": [
    "**Question:** What about if we need to convert a unique string format?\n",
    "\n",
    "Let’s create an arbitrary list of dates that are strings and convert them to timestamps:"
   ]
  },
  {
   "cell_type": "code",
   "execution_count": 0,
   "metadata": {
    "ExecuteTime": {
     "end_time": "2018-11-21T15:57:11.655863Z",
     "start_time": "2018-11-21T15:57:11.649927Z"
    },
    "colab": {},
    "colab_type": "code",
    "id": "rvPr19dCp2US",
    "outputId": "1aff27c7-3809-4a8d-9d1c-6c18ee061d63"
   },
   "outputs": [
    {
     "name": "stdout",
     "output_type": "stream",
     "text": [
      "[datetime.datetime(2018, 11, 11, 0, 0), datetime.datetime(2018, 11, 12, 0, 0), datetime.datetime(2018, 11, 13, 0, 0), datetime.datetime(2018, 11, 14, 0, 0), datetime.datetime(2018, 11, 15, 0, 0), datetime.datetime(2018, 11, 16, 0, 0), datetime.datetime(2018, 11, 17, 0, 0), datetime.datetime(2018, 11, 18, 0, 0), datetime.datetime(2018, 11, 19, 0, 0), datetime.datetime(2018, 11, 20, 0, 0), datetime.datetime(2018, 11, 21, 0, 0)]\n"
     ]
    }
   ],
   "source": [
    "string_date_range2 = ['November-11-2018', 'November-12-2018',\n",
    "                      'November-13-2018', 'November-14-2018',\n",
    "                      'November-15-2018', 'November-16-2018',\n",
    "                      'November-17-2018', 'November-18-2018',\n",
    "                      'November-19-2018', 'November-20-2018',\n",
    "                      'November-21-2018'\n",
    "                     ]\n",
    "\n",
    "timestamp_date_range2 = [datetime.strptime(x,'%B-%d-%Y') for x in string_date_range2]\n",
    "\n",
    "print(timestamp_date_range2)"
   ]
  },
  {
   "cell_type": "markdown",
   "metadata": {
    "colab_type": "text",
    "id": "eLmO0Ypyp2UU"
   },
   "source": [
    "Now, let's see how it looks like when we put it into a DataFrame"
   ]
  },
  {
   "cell_type": "code",
   "execution_count": 0,
   "metadata": {
    "ExecuteTime": {
     "end_time": "2018-11-21T15:57:12.016387Z",
     "start_time": "2018-11-21T15:57:12.009414Z"
    },
    "colab": {},
    "colab_type": "code",
    "id": "kftjyjqup2UV",
    "outputId": "a13dd55b-d5ca-4500-dc3c-58a721bc48c5"
   },
   "outputs": [
    {
     "data": {
      "text/html": [
       "<div>\n",
       "<style scoped>\n",
       "    .dataframe tbody tr th:only-of-type {\n",
       "        vertical-align: middle;\n",
       "    }\n",
       "\n",
       "    .dataframe tbody tr th {\n",
       "        vertical-align: top;\n",
       "    }\n",
       "\n",
       "    .dataframe thead th {\n",
       "        text-align: right;\n",
       "    }\n",
       "</style>\n",
       "<table border=\"1\" class=\"dataframe\">\n",
       "  <thead>\n",
       "    <tr style=\"text-align: right;\">\n",
       "      <th></th>\n",
       "      <th>Date</th>\n",
       "    </tr>\n",
       "  </thead>\n",
       "  <tbody>\n",
       "    <tr>\n",
       "      <th>6</th>\n",
       "      <td>2018-11-17</td>\n",
       "    </tr>\n",
       "    <tr>\n",
       "      <th>7</th>\n",
       "      <td>2018-11-18</td>\n",
       "    </tr>\n",
       "    <tr>\n",
       "      <th>8</th>\n",
       "      <td>2018-11-19</td>\n",
       "    </tr>\n",
       "    <tr>\n",
       "      <th>9</th>\n",
       "      <td>2018-11-20</td>\n",
       "    </tr>\n",
       "    <tr>\n",
       "      <th>10</th>\n",
       "      <td>2018-11-21</td>\n",
       "    </tr>\n",
       "  </tbody>\n",
       "</table>\n",
       "</div>"
      ],
      "text/plain": [
       "         Date\n",
       "6  2018-11-17\n",
       "7  2018-11-18\n",
       "8  2018-11-19\n",
       "9  2018-11-20\n",
       "10 2018-11-21"
      ]
     },
     "execution_count": 10,
     "metadata": {
      "tags": []
     },
     "output_type": "execute_result"
    }
   ],
   "source": [
    "df2 = pd.DataFrame(timestamp_date_range2, columns=[\"Date\"])\n",
    "\n",
    "df2.tail()"
   ]
  },
  {
   "cell_type": "markdown",
   "metadata": {
    "colab_type": "text",
    "id": "mz-LKHkpp2UY"
   },
   "source": [
    "### Manipulation of the data by parsing on timestamp index\n",
    "\n",
    "Let's going back to our original data frame, and look at the data by **parsing on timestamp index**: Say we just want to see data where the date is the **20th** of the month, we could use the index as per below."
   ]
  },
  {
   "cell_type": "code",
   "execution_count": 0,
   "metadata": {
    "ExecuteTime": {
     "end_time": "2018-11-21T15:57:12.408276Z",
     "start_time": "2018-11-21T15:57:12.401217Z"
    },
    "colab": {},
    "colab_type": "code",
    "id": "cIiChMVKp2UY",
    "outputId": "ed23f217-5191-4ba3-e180-6483b141adb3"
   },
   "outputs": [
    {
     "data": {
      "text/html": [
       "<div>\n",
       "<style scoped>\n",
       "    .dataframe tbody tr th:only-of-type {\n",
       "        vertical-align: middle;\n",
       "    }\n",
       "\n",
       "    .dataframe tbody tr th {\n",
       "        vertical-align: top;\n",
       "    }\n",
       "\n",
       "    .dataframe thead th {\n",
       "        text-align: right;\n",
       "    }\n",
       "</style>\n",
       "<table border=\"1\" class=\"dataframe\">\n",
       "  <thead>\n",
       "    <tr style=\"text-align: right;\">\n",
       "      <th></th>\n",
       "      <th>Data</th>\n",
       "    </tr>\n",
       "    <tr>\n",
       "      <th>Date</th>\n",
       "      <th></th>\n",
       "    </tr>\n",
       "  </thead>\n",
       "  <tbody>\n",
       "    <tr>\n",
       "      <th>2018-10-20 08:00:00</th>\n",
       "      <td>427</td>\n",
       "    </tr>\n",
       "    <tr>\n",
       "      <th>2018-10-20 12:00:00</th>\n",
       "      <td>710</td>\n",
       "    </tr>\n",
       "    <tr>\n",
       "      <th>2018-10-20 16:00:00</th>\n",
       "      <td>788</td>\n",
       "    </tr>\n",
       "    <tr>\n",
       "      <th>2018-10-20 20:00:00</th>\n",
       "      <td>550</td>\n",
       "    </tr>\n",
       "    <tr>\n",
       "      <th>2018-11-20 00:00:00</th>\n",
       "      <td>959</td>\n",
       "    </tr>\n",
       "    <tr>\n",
       "      <th>2018-11-20 04:00:00</th>\n",
       "      <td>431</td>\n",
       "    </tr>\n",
       "    <tr>\n",
       "      <th>2018-11-20 08:00:00</th>\n",
       "      <td>619</td>\n",
       "    </tr>\n",
       "    <tr>\n",
       "      <th>2018-11-20 12:00:00</th>\n",
       "      <td>904</td>\n",
       "    </tr>\n",
       "    <tr>\n",
       "      <th>2018-11-20 16:00:00</th>\n",
       "      <td>990</td>\n",
       "    </tr>\n",
       "    <tr>\n",
       "      <th>2018-11-20 20:00:00</th>\n",
       "      <td>65</td>\n",
       "    </tr>\n",
       "  </tbody>\n",
       "</table>\n",
       "</div>"
      ],
      "text/plain": [
       "                     Data\n",
       "Date                     \n",
       "2018-10-20 08:00:00   427\n",
       "2018-10-20 12:00:00   710\n",
       "2018-10-20 16:00:00   788\n",
       "2018-10-20 20:00:00   550\n",
       "2018-11-20 00:00:00   959\n",
       "2018-11-20 04:00:00   431\n",
       "2018-11-20 08:00:00   619\n",
       "2018-11-20 12:00:00   904\n",
       "2018-11-20 16:00:00   990\n",
       "2018-11-20 20:00:00    65"
      ]
     },
     "execution_count": 11,
     "metadata": {
      "tags": []
     },
     "output_type": "execute_result"
    }
   ],
   "source": [
    "df[df.index.day==20].tail(10)"
   ]
  },
  {
   "cell_type": "markdown",
   "metadata": {
    "colab_type": "text",
    "id": "slxogYYxp2Ub"
   },
   "source": [
    "There is also a way to directly call a date that we want to look at via the index of the DataFrame. An illustration is as follows:"
   ]
  },
  {
   "cell_type": "code",
   "execution_count": 0,
   "metadata": {
    "ExecuteTime": {
     "end_time": "2018-11-21T15:57:12.976344Z",
     "start_time": "2018-11-21T15:57:12.969332Z"
    },
    "colab": {},
    "colab_type": "code",
    "id": "UzCWQm3_p2Uc",
    "outputId": "eb79d63e-0d40-4869-9838-027b9a49af0b"
   },
   "outputs": [
    {
     "data": {
      "text/html": [
       "<div>\n",
       "<style scoped>\n",
       "    .dataframe tbody tr th:only-of-type {\n",
       "        vertical-align: middle;\n",
       "    }\n",
       "\n",
       "    .dataframe tbody tr th {\n",
       "        vertical-align: top;\n",
       "    }\n",
       "\n",
       "    .dataframe thead th {\n",
       "        text-align: right;\n",
       "    }\n",
       "</style>\n",
       "<table border=\"1\" class=\"dataframe\">\n",
       "  <thead>\n",
       "    <tr style=\"text-align: right;\">\n",
       "      <th></th>\n",
       "      <th>Data</th>\n",
       "    </tr>\n",
       "    <tr>\n",
       "      <th>Date</th>\n",
       "      <th></th>\n",
       "    </tr>\n",
       "  </thead>\n",
       "  <tbody>\n",
       "    <tr>\n",
       "      <th>2018-11-20 00:00:00</th>\n",
       "      <td>959</td>\n",
       "    </tr>\n",
       "    <tr>\n",
       "      <th>2018-11-20 04:00:00</th>\n",
       "      <td>431</td>\n",
       "    </tr>\n",
       "    <tr>\n",
       "      <th>2018-11-20 08:00:00</th>\n",
       "      <td>619</td>\n",
       "    </tr>\n",
       "    <tr>\n",
       "      <th>2018-11-20 12:00:00</th>\n",
       "      <td>904</td>\n",
       "    </tr>\n",
       "    <tr>\n",
       "      <th>2018-11-20 16:00:00</th>\n",
       "      <td>990</td>\n",
       "    </tr>\n",
       "    <tr>\n",
       "      <th>2018-11-20 20:00:00</th>\n",
       "      <td>65</td>\n",
       "    </tr>\n",
       "  </tbody>\n",
       "</table>\n",
       "</div>"
      ],
      "text/plain": [
       "                     Data\n",
       "Date                     \n",
       "2018-11-20 00:00:00   959\n",
       "2018-11-20 04:00:00   431\n",
       "2018-11-20 08:00:00   619\n",
       "2018-11-20 12:00:00   904\n",
       "2018-11-20 16:00:00   990\n",
       "2018-11-20 20:00:00    65"
      ]
     },
     "execution_count": 12,
     "metadata": {
      "tags": []
     },
     "output_type": "execute_result"
    }
   ],
   "source": [
    "df[\"2018-11-20\"].head(10)"
   ]
  },
  {
   "cell_type": "markdown",
   "metadata": {
    "colab_type": "text",
    "id": "aBBXkyftp2Ug"
   },
   "source": [
    "What about selecting data wthin a range of dates?"
   ]
  },
  {
   "cell_type": "code",
   "execution_count": 0,
   "metadata": {
    "ExecuteTime": {
     "end_time": "2018-11-21T15:57:13.481901Z",
     "start_time": "2018-11-21T15:57:13.473115Z"
    },
    "colab": {},
    "colab_type": "code",
    "id": "DyVRyGgTp2Uh",
    "outputId": "eecb2b7a-bcb1-42ca-ccd7-70f847964be4"
   },
   "outputs": [
    {
     "data": {
      "text/html": [
       "<div>\n",
       "<style scoped>\n",
       "    .dataframe tbody tr th:only-of-type {\n",
       "        vertical-align: middle;\n",
       "    }\n",
       "\n",
       "    .dataframe tbody tr th {\n",
       "        vertical-align: top;\n",
       "    }\n",
       "\n",
       "    .dataframe thead th {\n",
       "        text-align: right;\n",
       "    }\n",
       "</style>\n",
       "<table border=\"1\" class=\"dataframe\">\n",
       "  <thead>\n",
       "    <tr style=\"text-align: right;\">\n",
       "      <th></th>\n",
       "      <th>Data</th>\n",
       "    </tr>\n",
       "    <tr>\n",
       "      <th>Date</th>\n",
       "      <th></th>\n",
       "    </tr>\n",
       "  </thead>\n",
       "  <tbody>\n",
       "    <tr>\n",
       "      <th>2018-11-10 00:00:00</th>\n",
       "      <td>250</td>\n",
       "    </tr>\n",
       "    <tr>\n",
       "      <th>2018-11-10 04:00:00</th>\n",
       "      <td>679</td>\n",
       "    </tr>\n",
       "    <tr>\n",
       "      <th>2018-11-10 08:00:00</th>\n",
       "      <td>382</td>\n",
       "    </tr>\n",
       "    <tr>\n",
       "      <th>2018-11-10 12:00:00</th>\n",
       "      <td>840</td>\n",
       "    </tr>\n",
       "    <tr>\n",
       "      <th>2018-11-10 16:00:00</th>\n",
       "      <td>775</td>\n",
       "    </tr>\n",
       "    <tr>\n",
       "      <th>2018-11-10 20:00:00</th>\n",
       "      <td>87</td>\n",
       "    </tr>\n",
       "    <tr>\n",
       "      <th>2018-11-11 00:00:00</th>\n",
       "      <td>670</td>\n",
       "    </tr>\n",
       "    <tr>\n",
       "      <th>2018-11-11 04:00:00</th>\n",
       "      <td>781</td>\n",
       "    </tr>\n",
       "    <tr>\n",
       "      <th>2018-11-11 08:00:00</th>\n",
       "      <td>48</td>\n",
       "    </tr>\n",
       "    <tr>\n",
       "      <th>2018-11-11 12:00:00</th>\n",
       "      <td>352</td>\n",
       "    </tr>\n",
       "  </tbody>\n",
       "</table>\n",
       "</div>"
      ],
      "text/plain": [
       "                     Data\n",
       "Date                     \n",
       "2018-11-10 00:00:00   250\n",
       "2018-11-10 04:00:00   679\n",
       "2018-11-10 08:00:00   382\n",
       "2018-11-10 12:00:00   840\n",
       "2018-11-10 16:00:00   775\n",
       "2018-11-10 20:00:00    87\n",
       "2018-11-11 00:00:00   670\n",
       "2018-11-11 04:00:00   781\n",
       "2018-11-11 08:00:00    48\n",
       "2018-11-11 12:00:00   352"
      ]
     },
     "execution_count": 13,
     "metadata": {
      "tags": []
     },
     "output_type": "execute_result"
    }
   ],
   "source": [
    "df[\"2018-11-10\":\"2018-11-21\"].head(10)"
   ]
  },
  {
   "cell_type": "markdown",
   "metadata": {
    "colab_type": "text",
    "id": "bLAp4t4cp2Ul"
   },
   "source": [
    "### Data Resampling\n",
    "\n",
    "The basic DataFrame that we’ve populated gives us data on a 4-hourly frequency, but we can resample the data at a different frequency and specify how we would like to compute the summary statistic for the new sample frequency. We could take the **`min, max, average, sum`**, etc., of the data at a daily frequency instead of a 4-hourly frequency as per the example below where we compute the daily average of the data:"
   ]
  },
  {
   "cell_type": "code",
   "execution_count": 0,
   "metadata": {
    "ExecuteTime": {
     "end_time": "2018-11-21T15:57:14.234201Z",
     "start_time": "2018-11-21T15:57:14.224977Z"
    },
    "colab": {},
    "colab_type": "code",
    "id": "Ri7b6dlgp2Um",
    "outputId": "6557e1c1-91c6-49bf-9db5-a9cee357fe7e"
   },
   "outputs": [
    {
     "data": {
      "text/html": [
       "<div>\n",
       "<style scoped>\n",
       "    .dataframe tbody tr th:only-of-type {\n",
       "        vertical-align: middle;\n",
       "    }\n",
       "\n",
       "    .dataframe tbody tr th {\n",
       "        vertical-align: top;\n",
       "    }\n",
       "\n",
       "    .dataframe thead th {\n",
       "        text-align: right;\n",
       "    }\n",
       "</style>\n",
       "<table border=\"1\" class=\"dataframe\">\n",
       "  <thead>\n",
       "    <tr style=\"text-align: right;\">\n",
       "      <th></th>\n",
       "      <th>Data</th>\n",
       "    </tr>\n",
       "    <tr>\n",
       "      <th>Date</th>\n",
       "      <th></th>\n",
       "    </tr>\n",
       "  </thead>\n",
       "  <tbody>\n",
       "    <tr>\n",
       "      <th>2018-01-01</th>\n",
       "      <td>340.333333</td>\n",
       "    </tr>\n",
       "    <tr>\n",
       "      <th>2018-01-02</th>\n",
       "      <td>495.333333</td>\n",
       "    </tr>\n",
       "    <tr>\n",
       "      <th>2018-01-03</th>\n",
       "      <td>692.333333</td>\n",
       "    </tr>\n",
       "    <tr>\n",
       "      <th>2018-01-04</th>\n",
       "      <td>508.833333</td>\n",
       "    </tr>\n",
       "    <tr>\n",
       "      <th>2018-01-05</th>\n",
       "      <td>597.166667</td>\n",
       "    </tr>\n",
       "    <tr>\n",
       "      <th>2018-01-06</th>\n",
       "      <td>383.500000</td>\n",
       "    </tr>\n",
       "    <tr>\n",
       "      <th>2018-01-07</th>\n",
       "      <td>478.500000</td>\n",
       "    </tr>\n",
       "    <tr>\n",
       "      <th>2018-01-08</th>\n",
       "      <td>382.666667</td>\n",
       "    </tr>\n",
       "    <tr>\n",
       "      <th>2018-01-09</th>\n",
       "      <td>455.666667</td>\n",
       "    </tr>\n",
       "    <tr>\n",
       "      <th>2018-01-10</th>\n",
       "      <td>516.833333</td>\n",
       "    </tr>\n",
       "  </tbody>\n",
       "</table>\n",
       "</div>"
      ],
      "text/plain": [
       "                  Data\n",
       "Date                  \n",
       "2018-01-01  340.333333\n",
       "2018-01-02  495.333333\n",
       "2018-01-03  692.333333\n",
       "2018-01-04  508.833333\n",
       "2018-01-05  597.166667\n",
       "2018-01-06  383.500000\n",
       "2018-01-07  478.500000\n",
       "2018-01-08  382.666667\n",
       "2018-01-09  455.666667\n",
       "2018-01-10  516.833333"
      ]
     },
     "execution_count": 14,
     "metadata": {
      "tags": []
     },
     "output_type": "execute_result"
    }
   ],
   "source": [
    "df.resample(\"D\").mean().head(10)"
   ]
  },
  {
   "cell_type": "markdown",
   "metadata": {
    "colab_type": "text",
    "id": "W--oVVXrp2Ur"
   },
   "source": [
    "#### About Window Statistics such as a Rolling Mean or a Rolling Sum, etc.\n",
    "\n",
    "Let’s create a new column in our original df that computes the rolling sum **over a 5 window period** and then look at the top of the data frame:"
   ]
  },
  {
   "cell_type": "code",
   "execution_count": 0,
   "metadata": {
    "ExecuteTime": {
     "end_time": "2018-11-21T15:57:17.652365Z",
     "start_time": "2018-11-21T15:57:17.641469Z"
    },
    "colab": {},
    "colab_type": "code",
    "id": "9wqsu1Y7p2Us",
    "outputId": "d1a3552e-77e9-4636-9396-54473d897029"
   },
   "outputs": [
    {
     "data": {
      "text/html": [
       "<div>\n",
       "<style scoped>\n",
       "    .dataframe tbody tr th:only-of-type {\n",
       "        vertical-align: middle;\n",
       "    }\n",
       "\n",
       "    .dataframe tbody tr th {\n",
       "        vertical-align: top;\n",
       "    }\n",
       "\n",
       "    .dataframe thead th {\n",
       "        text-align: right;\n",
       "    }\n",
       "</style>\n",
       "<table border=\"1\" class=\"dataframe\">\n",
       "  <thead>\n",
       "    <tr style=\"text-align: right;\">\n",
       "      <th></th>\n",
       "      <th>Data</th>\n",
       "      <th>Rolling_median</th>\n",
       "    </tr>\n",
       "    <tr>\n",
       "      <th>Date</th>\n",
       "      <th></th>\n",
       "      <th></th>\n",
       "    </tr>\n",
       "  </thead>\n",
       "  <tbody>\n",
       "    <tr>\n",
       "      <th>2018-01-01 00:00:00</th>\n",
       "      <td>501</td>\n",
       "      <td>NaN</td>\n",
       "    </tr>\n",
       "    <tr>\n",
       "      <th>2018-01-01 04:00:00</th>\n",
       "      <td>119</td>\n",
       "      <td>NaN</td>\n",
       "    </tr>\n",
       "    <tr>\n",
       "      <th>2018-01-01 08:00:00</th>\n",
       "      <td>335</td>\n",
       "      <td>NaN</td>\n",
       "    </tr>\n",
       "    <tr>\n",
       "      <th>2018-01-01 12:00:00</th>\n",
       "      <td>314</td>\n",
       "      <td>NaN</td>\n",
       "    </tr>\n",
       "    <tr>\n",
       "      <th>2018-01-01 16:00:00</th>\n",
       "      <td>33</td>\n",
       "      <td>314.0</td>\n",
       "    </tr>\n",
       "    <tr>\n",
       "      <th>2018-01-01 20:00:00</th>\n",
       "      <td>740</td>\n",
       "      <td>314.0</td>\n",
       "    </tr>\n",
       "    <tr>\n",
       "      <th>2018-01-02 00:00:00</th>\n",
       "      <td>866</td>\n",
       "      <td>335.0</td>\n",
       "    </tr>\n",
       "  </tbody>\n",
       "</table>\n",
       "</div>"
      ],
      "text/plain": [
       "                     Data  Rolling_median\n",
       "Date                                     \n",
       "2018-01-01 00:00:00   501             NaN\n",
       "2018-01-01 04:00:00   119             NaN\n",
       "2018-01-01 08:00:00   335             NaN\n",
       "2018-01-01 12:00:00   314             NaN\n",
       "2018-01-01 16:00:00    33           314.0\n",
       "2018-01-01 20:00:00   740           314.0\n",
       "2018-01-02 00:00:00   866           335.0"
      ]
     },
     "execution_count": 15,
     "metadata": {
      "tags": []
     },
     "output_type": "execute_result"
    }
   ],
   "source": [
    "df[\"Rolling_median\"] = df.Data.rolling(5).median()\n",
    "\n",
    "df.head(7)"
   ]
  },
  {
   "cell_type": "markdown",
   "metadata": {
    "colab_type": "text",
    "id": "jmPVSuuqp2Uv"
   },
   "source": [
    "Now, we can see that this is computing correctly and that it only starts having valid values when there are five periods over which to look back.\n",
    "\n",
    "This is a good chance to see how we can do **forward-** or **back-filling** of data when working with **`missing data values`**.\n",
    "\n",
    "#### About `Forward-` or `Back-filling`\n",
    "\n",
    "Here’s our `df` but with a new column that takes the rolling sum and backfills the data:"
   ]
  },
  {
   "cell_type": "code",
   "execution_count": 0,
   "metadata": {
    "ExecuteTime": {
     "end_time": "2018-11-21T15:57:22.588666Z",
     "start_time": "2018-11-21T15:57:22.576863Z"
    },
    "colab": {},
    "colab_type": "code",
    "id": "RPoSw3VBp2Uw",
    "outputId": "e76c641c-67ce-4735-fcb2-2dca0178eb03"
   },
   "outputs": [
    {
     "data": {
      "text/html": [
       "<div>\n",
       "<style scoped>\n",
       "    .dataframe tbody tr th:only-of-type {\n",
       "        vertical-align: middle;\n",
       "    }\n",
       "\n",
       "    .dataframe tbody tr th {\n",
       "        vertical-align: top;\n",
       "    }\n",
       "\n",
       "    .dataframe thead th {\n",
       "        text-align: right;\n",
       "    }\n",
       "</style>\n",
       "<table border=\"1\" class=\"dataframe\">\n",
       "  <thead>\n",
       "    <tr style=\"text-align: right;\">\n",
       "      <th></th>\n",
       "      <th>Data</th>\n",
       "      <th>Rolling_median</th>\n",
       "      <th>Rolling_median_backfilled</th>\n",
       "    </tr>\n",
       "    <tr>\n",
       "      <th>Date</th>\n",
       "      <th></th>\n",
       "      <th></th>\n",
       "      <th></th>\n",
       "    </tr>\n",
       "  </thead>\n",
       "  <tbody>\n",
       "    <tr>\n",
       "      <th>2018-01-01 00:00:00</th>\n",
       "      <td>501</td>\n",
       "      <td>NaN</td>\n",
       "      <td>314.0</td>\n",
       "    </tr>\n",
       "    <tr>\n",
       "      <th>2018-01-01 04:00:00</th>\n",
       "      <td>119</td>\n",
       "      <td>NaN</td>\n",
       "      <td>314.0</td>\n",
       "    </tr>\n",
       "    <tr>\n",
       "      <th>2018-01-01 08:00:00</th>\n",
       "      <td>335</td>\n",
       "      <td>NaN</td>\n",
       "      <td>314.0</td>\n",
       "    </tr>\n",
       "    <tr>\n",
       "      <th>2018-01-01 12:00:00</th>\n",
       "      <td>314</td>\n",
       "      <td>NaN</td>\n",
       "      <td>314.0</td>\n",
       "    </tr>\n",
       "    <tr>\n",
       "      <th>2018-01-01 16:00:00</th>\n",
       "      <td>33</td>\n",
       "      <td>314.0</td>\n",
       "      <td>314.0</td>\n",
       "    </tr>\n",
       "    <tr>\n",
       "      <th>2018-01-01 20:00:00</th>\n",
       "      <td>740</td>\n",
       "      <td>314.0</td>\n",
       "      <td>314.0</td>\n",
       "    </tr>\n",
       "    <tr>\n",
       "      <th>2018-01-02 00:00:00</th>\n",
       "      <td>866</td>\n",
       "      <td>335.0</td>\n",
       "      <td>335.0</td>\n",
       "    </tr>\n",
       "    <tr>\n",
       "      <th>2018-01-02 04:00:00</th>\n",
       "      <td>665</td>\n",
       "      <td>665.0</td>\n",
       "      <td>665.0</td>\n",
       "    </tr>\n",
       "    <tr>\n",
       "      <th>2018-01-02 08:00:00</th>\n",
       "      <td>493</td>\n",
       "      <td>665.0</td>\n",
       "      <td>665.0</td>\n",
       "    </tr>\n",
       "    <tr>\n",
       "      <th>2018-01-02 12:00:00</th>\n",
       "      <td>188</td>\n",
       "      <td>665.0</td>\n",
       "      <td>665.0</td>\n",
       "    </tr>\n",
       "  </tbody>\n",
       "</table>\n",
       "</div>"
      ],
      "text/plain": [
       "                     Data  Rolling_median  Rolling_median_backfilled\n",
       "Date                                                                \n",
       "2018-01-01 00:00:00   501             NaN                      314.0\n",
       "2018-01-01 04:00:00   119             NaN                      314.0\n",
       "2018-01-01 08:00:00   335             NaN                      314.0\n",
       "2018-01-01 12:00:00   314             NaN                      314.0\n",
       "2018-01-01 16:00:00    33           314.0                      314.0\n",
       "2018-01-01 20:00:00   740           314.0                      314.0\n",
       "2018-01-02 00:00:00   866           335.0                      335.0\n",
       "2018-01-02 04:00:00   665           665.0                      665.0\n",
       "2018-01-02 08:00:00   493           665.0                      665.0\n",
       "2018-01-02 12:00:00   188           665.0                      665.0"
      ]
     },
     "execution_count": 16,
     "metadata": {
      "tags": []
     },
     "output_type": "execute_result"
    }
   ],
   "source": [
    "df[\"Rolling_median_backfilled\"] = df.Rolling_median.fillna(method=\"backfill\")\n",
    "\n",
    "df.head(10)"
   ]
  },
  {
   "cell_type": "markdown",
   "metadata": {
    "colab_type": "text",
    "id": "_YSZp-_wp2Uz"
   },
   "source": [
    "#### Important Notice:\n",
    "\n",
    "*It's often useful to be able to fill your missing data with realistic values such as the average of a time period, but always remember that if you are working with a time series problem and want your data to be realistic*, **~~you should not do a backfill of your data~~** *as that’s like looking into the future and getting information you would never have at that time period. Likely you will want to **forward-fill** your data more frequently than you backfill.*\n",
    "\n",
    "\n",
    "### Notion of `Epoch Time` in Time Series Data\n",
    "\n",
    "When working with time series data, you may come across time values that are in **Unix time**. **Unix time**, also called **Epoch time** is the number of seconds that have elapsed since **`00:00:00 Coordinated Universal Time (UTC), Thursday, 1 January 1970`**. Using **Unix time** helps to disambiguate time stamps so that we don't get confused by time zones, daylight savings time, etc.\n",
    "\n",
    "Here’s an example of a time **`t`** that is in **Epoch time** and converting **unix/epoch time** to a regular time stamp in **UTC**:"
   ]
  },
  {
   "cell_type": "code",
   "execution_count": 0,
   "metadata": {
    "ExecuteTime": {
     "end_time": "2018-11-21T16:12:12.354678Z",
     "start_time": "2018-11-21T16:12:12.351265Z"
    },
    "colab": {},
    "colab_type": "code",
    "id": "-0-Vzf22p2U0",
    "outputId": "a3e78799-2829-430a-d478-003598af8de0"
   },
   "outputs": [
    {
     "name": "stdout",
     "output_type": "stream",
     "text": [
      "2018-06-17 21:57:35\n"
     ]
    }
   ],
   "source": [
    "epoch_t = 1529272655 ### This time is in second\n",
    "real_t = pd.to_datetime(epoch_t, unit='s')\n",
    "\n",
    "print(real_t)"
   ]
  },
  {
   "cell_type": "markdown",
   "metadata": {
    "colab_type": "text",
    "id": "Igg22f1ap2U4"
   },
   "source": [
    "#### Converting Time that are in UCT to my Local Time\n",
    "\n",
    "If I wanted to convert that time that is in UTC to a given time zone, I could simply do the following:"
   ]
  },
  {
   "cell_type": "code",
   "execution_count": 0,
   "metadata": {
    "ExecuteTime": {
     "end_time": "2018-11-21T16:12:18.824685Z",
     "start_time": "2018-11-21T16:12:18.820742Z"
    },
    "colab": {},
    "colab_type": "code",
    "id": "5O2pLCjKp2U4",
    "outputId": "80d4ecca-00a2-4bf3-8952-2a9c4112d416"
   },
   "outputs": [
    {
     "data": {
      "text/plain": [
       "Timestamp('2018-06-17 14:57:35-0700', tz='US/Pacific')"
      ]
     },
     "execution_count": 18,
     "metadata": {
      "tags": []
     },
     "output_type": "execute_result"
    }
   ],
   "source": [
    "real_t.tz_localize('UTC').tz_convert('US/Pacific')"
   ]
  },
  {
   "cell_type": "markdown",
   "metadata": {
    "colab_type": "text",
    "id": "0FHugtxKp2U6"
   },
   "source": [
    "### Summary of the Work\n",
    "\n",
    "With these basics, you should be all set to work with your time series data. Here are a few tips to keep in mind and common pitfalls to avoid when working with time series data.\n",
    "\n",
    "#### Few Tips to Keep in mind and Common Pitfalls to Avoid when Working with Time Series Data\n",
    "\n",
    "+ **Check for Discrepancies** in your data that may be caused by region specific time changes like daylight savings time.\n",
    "+ Keep track of time zones meticulously** — let others going through your code know what time zone your data is in, and think about converting to UTC or a standardized value in order to keep your data standardized.\n",
    "+ **Missing data can occur frequently** — make sure you document your **`cleaning rules`** and think about **`not backfilling information`** you wouldn’t have been able to have at the time of a sample.\n",
    "+ **`Remember that as you resample your data or fill in missing values`**, you’re losing a certain amount of information about your original data set. *I’d suggest keeping track of all of your data transformations and tracking the root cause of your data issues.*\n",
    "+ When you resample your data, the best method (**mean, min, max, sum, etc.**) will be dependent on the kind of data you have and how it was sampled. **`Be thoughtful about how you resample your data for your analysis.`**"
   ]
  },
  {
   "cell_type": "markdown",
   "metadata": {
    "colab_type": "text",
    "id": "FEhN77tXp2U7"
   },
   "source": [
    "## Playing"
   ]
  },
  {
   "cell_type": "code",
   "execution_count": 0,
   "metadata": {
    "ExecuteTime": {
     "end_time": "2019-04-02T07:38:05.590441Z",
     "start_time": "2019-04-02T07:38:05.279907Z"
    },
    "colab": {},
    "colab_type": "code",
    "id": "ZSldMD_Rp2U8"
   },
   "outputs": [],
   "source": [
    "# Import libraries\n",
    "import numpy as np\n",
    "import matplotlib.pyplot as plt\n",
    "import matplotlib.gridspec as gridspec\n",
    "%matplotlib inline\n",
    "\n",
    "# Generate data\n",
    "dist_norm = np.random.normal(loc=0, scale=1, size=1000)\n",
    "dist_tdis = np.random.standard_t(df=29, size=1000)\n",
    "dist_fdis = np.random.f(dfnum=59, dfden=28, size=1000)\n",
    "dist_chsq = np.random.chisquare(df=2, size=1000)"
   ]
  },
  {
   "cell_type": "code",
   "execution_count": 0,
   "metadata": {
    "ExecuteTime": {
     "end_time": "2019-04-02T07:38:06.478536Z",
     "start_time": "2019-04-02T07:38:05.800282Z"
    },
    "colab": {},
    "colab_type": "code",
    "id": "oPidGLGLp2U9",
    "outputId": "df37d8ac-4338-4fa3-b6b8-0f8f76a832c3"
   },
   "outputs": [
    {
     "data": {
      "image/png": "[encoded data removed]",
      "text/plain": [
       "<Figure size 1080x720 with 3 Axes>"
      ]
     },
     "metadata": {
      "needs_background": "light",
      "tags": []
     },
     "output_type": "display_data"
    }
   ],
   "source": [
    "# Plot figure with subplots of different sizes\n",
    "fig = plt.figure(1)\n",
    "# set up subplot grid\n",
    "gridspec.GridSpec(3,3)\n",
    "\n",
    "# large subplot\n",
    "plt.subplot2grid((3,3), (0,0), colspan=2, rowspan=2)\n",
    "plt.locator_params(axis='x', nbins=5)\n",
    "plt.locator_params(axis='y', nbins=5)\n",
    "plt.title('Normal distribution')\n",
    "plt.xlabel('Data values')\n",
    "plt.ylabel('Frequency')\n",
    "plt.hist(dist_norm, bins=30, color='0.30')\n",
    "\n",
    "# small subplot 1\n",
    "plt.subplot2grid((3,3), (0,2))\n",
    "plt.locator_params(axis='x', nbins=5)\n",
    "plt.locator_params(axis='y', nbins=5)\n",
    "plt.title('t distribution')\n",
    "plt.xlabel('Data values')\n",
    "plt.ylabel('Frequency')\n",
    "plt.hist(dist_tdis, bins=30, color='b')\n",
    "\n",
    "# small subplot 2\n",
    "#plt.subplot2grid((3,3), (1,2))\n",
    "#plt.locator_params(axis='x', nbins=5)\n",
    "#plt.locator_params(axis='y', nbins=5)\n",
    "#plt.title('F distribution')\n",
    "#plt.xlabel('Data values')\n",
    "#plt.ylabel('Frequency')\n",
    "#plt.hist(dist_fdis, bins=30, color='r')\n",
    "\n",
    "# small subplot 3\n",
    "plt.subplot2grid((3,3), (1,2))\n",
    "plt.locator_params(axis='x', nbins=5)\n",
    "plt.locator_params(axis='y', nbins=5)\n",
    "plt.title('Chi-square distribution')\n",
    "plt.xlabel('Data values')\n",
    "plt.ylabel('Frequency')\n",
    "plt.hist(dist_chsq, bins=30, color='g')\n",
    "\n",
    "# fit subplots and save fig\n",
    "fig.tight_layout()\n",
    "fig.set_size_inches(w=15,h=10)\n",
    "#fig_name = 'plot.png'\n",
    "#fig.savefig(fig_name)"
   ]
  },
  {
   "cell_type": "code",
   "execution_count": 0,
   "metadata": {
    "ExecuteTime": {
     "end_time": "2019-04-02T07:38:11.560703Z",
     "start_time": "2019-04-02T07:38:11.420807Z"
    },
    "colab": {},
    "colab_type": "code",
    "id": "g5FC0Umfp2VA",
    "outputId": "c035ae50-46c7-4fa2-e550-459e26d22461"
   },
   "outputs": [
    {
     "data": {
      "image/png": "[encoded data removed]",
      "text/plain": [
       "<Figure size 432x288 with 4 Axes>"
      ]
     },
     "metadata": {
      "tags": []
     },
     "output_type": "display_data"
    }
   ],
   "source": [
    "X = [ (1,2,1), (3,2,2), (3,2,4), (3,2,6) ]\n",
    "for nrows, ncols, plot_number in X:\n",
    "    plt.subplot(nrows, ncols, plot_number)\n",
    "    plt.xticks([])\n",
    "    plt.yticks([])"
   ]
  },
  {
   "cell_type": "code",
   "execution_count": 0,
   "metadata": {
    "colab": {},
    "colab_type": "code",
    "id": "uvQpDzrsp2VC"
   },
   "outputs": [],
   "source": []
  }
 ],
 "metadata": {
  "colab": {
   "name": "DataAnalysis-Utils.ipynb",
   "provenance": [],
   "toc_visible": true,
   "version": "0.3.2"
  },
  "kernelspec": {
   "display_name": "Python (PhD_Py37)",
   "language": "python",
   "name": "phd_py37"
  },
  "language_info": {
   "codemirror_mode": {
    "name": "ipython",
    "version": 2
   },
   "file_extension": ".py",
   "mimetype": "text/x-python",
   "name": "python",
   "nbconvert_exporter": "python",
   "pygments_lexer": "ipython2",
   "version": "2.7.15"
  },
  "latex_envs": {
   "LaTeX_envs_menu_present": true,
   "autoclose": false,
   "autocomplete": true,
   "bibliofile": "biblio.bib",
   "cite_by": "apalike",
   "current_citInitial": 1,
   "eqLabelWithNumbers": true,
   "eqNumInitial": 1,
   "hotkeys": {
    "equation": "Ctrl-E",
    "itemize": "Ctrl-I"
   },
   "labels_anchors": false,
   "latex_user_defs": false,
   "report_style_numbering": false,
   "user_envs_cfg": false
  },
  "toc": {
   "base_numbering": 1,
   "nav_menu": {},
   "number_sections": true,
   "sideBar": true,
   "skip_h1_title": false,
   "title_cell": "Table of Contents",
   "title_sidebar": "Contents",
   "toc_cell": false,
   "toc_position": {},
   "toc_section_display": true,
   "toc_window_display": false
  },
  "varInspector": {
   "cols": {
    "lenName": 16,
    "lenType": 16,
    "lenVar": 40
   },
   "kernels_config": {
    "python": {
     "delete_cmd_postfix": "",
     "delete_cmd_prefix": "del ",
     "library": "var_list.py",
     "varRefreshCmd": "print(var_dic_list())"
    },
    "r": {
     "delete_cmd_postfix": ") ",
     "delete_cmd_prefix": "rm(",
     "library": "var_list.r",
     "varRefreshCmd": "cat(var_dic_list()) "
    }
   },
   "types_to_exclude": [
    "module",
    "function",
    "builtin_function_or_method",
    "instance",
    "_Feature"
   ],
   "window_display": false
  }
 },
 "nbformat": 4,
 "nbformat_minor": 1
}
